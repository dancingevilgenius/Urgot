{
 "cells": [
  {
   "cell_type": "code",
   "execution_count": null,
   "id": "558a54a8",
   "metadata": {},
   "outputs": [],
   "source": [
    "# Inspired by: https://www.youtube.com/watch?v=HjmIOKSp7v4&t=13s\n",
    "import matplotlib.pyplot as plt\n",
    "import numpy as np"
   ]
  },
  {
   "cell_type": "code",
   "execution_count": 136,
   "id": "d863d963",
   "metadata": {},
   "outputs": [],
   "source": [
    "j2l = 84\n",
    "j3l = 127"
   ]
  },
  {
   "cell_type": "code",
   "execution_count": 166,
   "id": "9932acc5",
   "metadata": {},
   "outputs": [],
   "source": [
    "def render(v2, v3):\n",
    "    x1, y1 = [0, 200], [0, 0]  # x axis\n",
    "    x2, y2 = [0, 0], [-100, 100]  # y axis\n",
    "    plt.gca().invert_xaxis()\n",
    "    plt.plot(x1, y1, linestyle=\"dashed\", color=\"black\")\n",
    "    plt.plot(x2, y2, linestyle=\"dashed\", color=\"black\")\n",
    "\n",
    "    # Draw leg\n",
    "    voffset = np.deg2rad(90)\n",
    "\n",
    "    v2rad = np.deg2rad(v2)\n",
    "    v3rad = np.deg2rad(v3)\n",
    "\n",
    "    l1x = np.cos(v2rad) * j2l\n",
    "    l1y = np.sin(v2rad) * j2l\n",
    "\n",
    "    l2x = np.cos(v2rad + v3rad - voffset) * j3l\n",
    "    l2y = np.sin(v2rad + v3rad - voffset) * j3l\n",
    "\n",
    "    plt.plot([0, l1x], [0, l1y], color=\"red\", marker=\"o\")\n",
    "    plt.plot([l1x, l1x + l2x], [l1y, l2y + l2y], color=\"green\", marker=\"o\")\n",
    "\n",
    "    plt.show()"
   ]
  },
  {
   "cell_type": "code",
   "execution_count": null,
   "id": "b8736e11",
   "metadata": {},
   "outputs": [],
   "source": [
    "def calculate_angles(z, y):\n",
    "    v3offset = np.deg2rad(\n",
    "        7\n",
    "    )  # foot is not directly under servo so zero angle do not have foot in in right place\n",
    "    # when angle is zero foot is too far off\n",
    "    l = np.sqrt(y**2 + z**2)\n",
    "    v3 = np.arccos((j2l**2 + j3l**2 - l**2) / (2 * j2l * j3l))\n",
    "    vb = np.arccos((j2l**2 + l**2 - j3l**2) / (2 * j2l * l))\n",
    "    va = np.arctan2(z, y)\n",
    "\n",
    "    v2 = vb - va\n",
    "    v3 = v3 - np.deg2rad(90)  # Adjust for the servo offset\n",
    "    v3 = v3 - v3offset  # Adjust for the foot offset\n",
    "\n",
    "    v2deg = np.rad2deg(v2)\n",
    "    v3deg = np.rad2deg(v3)\n",
    "    print(\n",
    "        f\"Calculated: l={l:.2f}, v2={v2deg:.2f},v3={v3deg:.2f}, vb={np.rad2deg(vb):.2f}, va={np.rad2deg(va):.2f}\"\n",
    "    )\n",
    "    return v2deg, v3deg"
   ]
  },
  {
   "cell_type": "code",
   "execution_count": 219,
   "id": "e7190c25",
   "metadata": {},
   "outputs": [
    {
     "name": "stdout",
     "output_type": "stream",
     "text": [
      "Calculated: l=128.06, v2=31.43,v3=-25.54, vb=70.09, va=38.66\n",
      "Calculated angles: v2 = 31.43, v3 = -25.54\n"
     ]
    },
    {
     "data": {
      "image/png": "[encoded data removed]",
      "text/plain": [
       "<Figure size 640x480 with 1 Axes>"
      ]
     },
     "metadata": {},
     "output_type": "display_data"
    }
   ],
   "source": [
    "z = int(80)\n",
    "y = int(100)\n",
    "\n",
    "v2, v3 = calculate_angles(z, y)\n",
    "print(f\"Calculated angles: v2 = {v2:.2f}, v3 = {v3:.2f}\")\n",
    "\n",
    "render(v2, v3)"
   ]
  },
  {
   "cell_type": "code",
   "execution_count": null,
   "id": "c6cbf142",
   "metadata": {},
   "outputs": [],
   "source": []
  }
 ],
 "metadata": {
  "kernelspec": {
   "display_name": "ik",
   "language": "python",
   "name": "python3"
  },
  "language_info": {
   "codemirror_mode": {
    "name": "ipython",
    "version": 3
   },
   "file_extension": ".py",
   "mimetype": "text/x-python",
   "name": "python",
   "nbconvert_exporter": "python",
   "pygments_lexer": "ipython3",
   "version": "3.12.6"
  }
 },
 "nbformat": 4,
 "nbformat_minor": 5
}
